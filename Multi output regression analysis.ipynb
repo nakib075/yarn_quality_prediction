{
 "cells": [
  {
   "cell_type": "code",
   "execution_count": 1,
   "metadata": {},
   "outputs": [],
   "source": [
    "##https://machinelearningmastery.com/multi-output-regression-models-with-python/\n",
    "from sklearn.datasets import make_regression\n"
   ]
  },
  {
   "cell_type": "code",
   "execution_count": 2,
   "metadata": {},
   "outputs": [],
   "source": [
    "## Create the dataset\n",
    "X,y =make_regression(n_samples=1500,n_informative=5,n_features=10,n_targets=3)"
   ]
  },
  {
   "cell_type": "code",
   "execution_count": 3,
   "metadata": {},
   "outputs": [
    {
     "data": {
      "text/plain": [
       "array([[ 1.36911344e+00,  1.60349560e-03,  1.03445300e+00, ...,\n",
       "         1.36968053e+00, -1.53020235e+00,  8.71167194e-01],\n",
       "       [-2.34832921e-02, -1.00231932e+00, -2.97720407e-01, ...,\n",
       "        -1.00204398e+00,  8.39798788e-01, -5.93734247e-01],\n",
       "       [ 2.87655500e-01, -3.70076466e-01, -1.04401395e+00, ...,\n",
       "        -1.35701183e+00, -1.90516748e+00, -6.85640683e-01],\n",
       "       ...,\n",
       "       [ 4.46268776e-01,  9.27362273e-01, -6.44151579e-01, ...,\n",
       "         2.13333070e+00,  1.76221185e+00, -1.17088018e+00],\n",
       "       [-3.05084083e-01,  1.13856116e-01, -6.65022934e-01, ...,\n",
       "         1.03461317e+00,  6.83587567e-01,  8.91337261e-01],\n",
       "       [ 9.53116995e-01,  5.69395752e-01, -1.37314697e-01, ...,\n",
       "        -1.31167782e+00, -1.54406469e+00, -5.39292388e-01]])"
      ]
     },
     "execution_count": 3,
     "metadata": {},
     "output_type": "execute_result"
    }
   ],
   "source": [
    "X"
   ]
  },
  {
   "cell_type": "code",
   "execution_count": 4,
   "metadata": {},
   "outputs": [
    {
     "data": {
      "text/plain": [
       "array([[ 106.48743632,  146.78885413,   63.55318924],\n",
       "       [ -90.14682742,  -39.25125904,  -36.33808116],\n",
       "       [  44.4399192 ,   82.4973965 ,  -19.02681326],\n",
       "       ...,\n",
       "       [ -32.08105641, -118.6230809 ,  -31.08367792],\n",
       "       [  22.72181743,  -10.2315577 ,  -37.0082212 ],\n",
       "       [  -9.9083697 ,  -86.89022595,  -13.93759022]])"
      ]
     },
     "execution_count": 4,
     "metadata": {},
     "output_type": "execute_result"
    }
   ],
   "source": [
    "y"
   ]
  },
  {
   "cell_type": "markdown",
   "metadata": {},
   "source": [
    "# multivariable multi output of cotton fiber properties"
   ]
  },
  {
   "cell_type": "code",
   "execution_count": 5,
   "metadata": {},
   "outputs": [
    {
     "name": "stdout",
     "output_type": "stream",
     "text": [
      "     MIC   Mat    Len   Unf  SFI   Str    Rd    +b  SFC (n)   Neps   SCN\n",
      "0   4.37  0.87  29.86  83.0  8.1  31.6  76.4   8.8     25.5   98.0  29.0\n",
      "1   4.50  0.92  28.39  81.1  8.3  29.1  71.8  10.0     30.2  214.0  12.0\n",
      "2   4.52  0.88  29.65  82.3  7.4  30.5  71.6  10.8     25.4  216.0   6.0\n",
      "3   3.92  0.85  29.35  81.7  9.1  28.9  79.4   9.5     25.0  257.0  30.0\n",
      "4   4.08  0.86  30.30  82.8  8.1  30.5  76.2  13.1     22.8  235.0  24.0\n",
      "5   4.38  0.87  29.08  81.5  9.3  30.1  74.4   8.6     27.7  213.0  35.0\n",
      "6   4.38  0.87  29.07  81.8  8.4  30.6  73.8   9.6     26.7  235.0  42.0\n",
      "7   4.99  0.89  28.20  83.9  7.1  31.9  75.1  10.1     22.0   71.0  28.0\n",
      "8   4.90  0.88  29.07  82.5  8.0  28.9  70.0   8.8     26.1  154.0  21.0\n",
      "9   4.57  0.88  29.26  82.4  7.9  31.4  75.9   9.4     21.0   80.0  22.0\n",
      "10  4.28  0.87  28.82  82.0  8.2  32.9  73.7   9.6     17.0  161.0  24.0\n",
      "11  4.33  0.87  28.56  81.2  9.9  32.3  68.5  10.9     21.5  257.0  31.3\n",
      "12  4.35  0.87  30.37  83.1  7.7  32.4  77.8  12.3     17.9  216.0  23.0\n",
      "13  4.90  0.88  29.07  82.5  8.0  28.9  70.0   8.8     26.1  154.0  21.0\n",
      "14  5.20  0.88  28.58  82.8  6.5  32.1  75.5  10.8     26.4  190.0   7.0\n",
      "15  4.40  0.86  29.65  84.9  5.7  30.4  73.5   9.2     19.8  143.0  15.0\n",
      "16  4.29  0.88  29.42  82.6  7.8  31.4  78.1   9.0     27.2  121.0  29.0\n",
      "17  4.24  0.87  29.61  80.5  9.4  29.1  74.0  10.4     30.0  195.0  39.0\n",
      "18  4.48  0.89  29.22  82.1  8.5  32.2  76.4   9.7     22.9   78.6  30.4\n",
      "19  4.27  0.87  28.82  81.4  8.5  31.5  76.4  10.3     22.2  174.0  36.0\n",
      "20  4.34  0.87  28.67  82.5  9.8  31.1  71.1  10.5     27.6  285.0  10.0\n",
      "21  4.35  0.87  30.37  83.1  7.7  32.4  77.8  12.3     17.9  216.0  23.0\n"
     ]
    }
   ],
   "source": [
    "import pandas as pd\n",
    "\n",
    "df = pd.read_csv('E:\\jupyter notebook\\multivariable multi output.csv')\n",
    "X = df[['MIC','Mat','Len','Unf','SFI','Str','Rd','+b','SFC (n)','Neps','SCN']]\n",
    "y = df [['Count','TPI','CSP','Hair']]\n",
    "print(X)\n",
    "\n",
    "#df = df[['MIC','Mat','Len','Unf','SFI','Str','Rd','+b','SFC (n)','Neps','SCN','Count','TPI','CSP','Hair']]\n",
    "#df"
   ]
  },
  {
   "cell_type": "code",
   "execution_count": 6,
   "metadata": {},
   "outputs": [
    {
     "name": "stdout",
     "output_type": "stream",
     "text": [
      "    Count    TPI   CSP   Hair\n",
      "0    6.67  10.88  2854   9.85\n",
      "1    7.00  11.88  2855   9.85\n",
      "2    8.00  12.88  2856  11.78\n",
      "3    9.00  11.90  2857  11.78\n",
      "4    6.00  10.88  2858  12.50\n",
      "5    6.67  11.88  2859  12.50\n",
      "6    7.00  10.88  2860  12.50\n",
      "7    8.00  11.88  2854  12.50\n",
      "8    7.50  10.88  2855  10.00\n",
      "9    6.67  10.88  2856  10.00\n",
      "10   6.00  10.88  2857  10.00\n",
      "11   6.90  10.88  2865  10.00\n",
      "12   9.00  13.00  2866  11.00\n",
      "13   8.00  11.88  2867  11.00\n",
      "14   7.00  12.88  2868  11.00\n",
      "15   8.55  10.88  2855  11.00\n",
      "16   8.54  10.88  2856  13.00\n",
      "17   6.67  10.88  2871  13.00\n",
      "18   7.00  10.88  2857  13.00\n",
      "19   8.00  12.00  2858  12.00\n",
      "20   9.00  11.88  2855  12.00\n",
      "21   9.50  12.88  2856  14.00\n"
     ]
    }
   ],
   "source": [
    "print(y)"
   ]
  },
  {
   "cell_type": "markdown",
   "metadata": {},
   "source": [
    "# DecisionTreeRegressor"
   ]
  },
  {
   "cell_type": "code",
   "execution_count": 7,
   "metadata": {},
   "outputs": [
    {
     "data": {
      "text/plain": [
       "DecisionTreeRegressor(ccp_alpha=0.0, criterion='mse', max_depth=None,\n",
       "                      max_features=None, max_leaf_nodes=None,\n",
       "                      min_impurity_decrease=0.0, min_impurity_split=None,\n",
       "                      min_samples_leaf=1, min_samples_split=2,\n",
       "                      min_weight_fraction_leaf=0.0, presort='deprecated',\n",
       "                      random_state=None, splitter='best')"
      ]
     },
     "execution_count": 7,
     "metadata": {},
     "output_type": "execute_result"
    }
   ],
   "source": [
    "from sklearn.tree import DecisionTreeRegressor\n",
    "dtregressor=DecisionTreeRegressor()\n",
    "dtregressor.fit(X,y)"
   ]
  },
  {
   "cell_type": "code",
   "execution_count": 8,
   "metadata": {},
   "outputs": [
    {
     "data": {
      "text/plain": [
       "array([[   6.  ,   10.88, 2857.  ,   10.  ]])"
      ]
     },
     "execution_count": 8,
     "metadata": {},
     "output_type": "execute_result"
    }
   ],
   "source": [
    "dtregressor.predict([[4.28, 0.87, 28.82,82.0,8.2,32.9,73.7,9.6,17.0,161.0,24.0]])"
   ]
  },
  {
   "cell_type": "code",
   "execution_count": 9,
   "metadata": {},
   "outputs": [
    {
     "data": {
      "text/plain": [
       "array([[   9.25,   12.94, 2861.  ,   12.5 ]])"
      ]
     },
     "execution_count": 9,
     "metadata": {},
     "output_type": "execute_result"
    }
   ],
   "source": [
    "dtregressor.predict([[4.35, 0.87, 30.82,84.0,7.9,35.9,78.7,10.9,17.9,211.0,34.0]])"
   ]
  },
  {
   "cell_type": "markdown",
   "metadata": {},
   "source": [
    "# Alternative method"
   ]
  },
  {
   "cell_type": "code",
   "execution_count": 10,
   "metadata": {},
   "outputs": [
    {
     "data": {
      "text/plain": [
       "LinearRegression(copy_X=True, fit_intercept=True, n_jobs=None, normalize=False)"
      ]
     },
     "execution_count": 10,
     "metadata": {},
     "output_type": "execute_result"
    }
   ],
   "source": [
    "from sklearn.linear_model import LinearRegression\n",
    "\n",
    "lrregression=LinearRegression()\n",
    "lrregression.fit(X,y)"
   ]
  },
  {
   "cell_type": "code",
   "execution_count": 11,
   "metadata": {},
   "outputs": [
    {
     "data": {
      "text/plain": [
       "array([[   7.00359908,   11.22071858, 2856.92972314,    9.92878484]])"
      ]
     },
     "execution_count": 11,
     "metadata": {},
     "output_type": "execute_result"
    }
   ],
   "source": [
    "lrregression.predict([[4.28, 0.87, 28.82,82.0,8.2,32.9,73.7,9.6,17.0,161.0,24.0]])"
   ]
  },
  {
   "cell_type": "code",
   "execution_count": 12,
   "metadata": {},
   "outputs": [
    {
     "data": {
      "text/plain": [
       "array([[   9.49862381,   12.83323121, 2857.47344261,   13.36623142]])"
      ]
     },
     "execution_count": 12,
     "metadata": {},
     "output_type": "execute_result"
    }
   ],
   "source": [
    "lrregression.predict([[4.35, 0.87, 30.82,84.0,7.9,35.9,78.7,10.9,17.9,211.0,34.0]])"
   ]
  },
  {
   "cell_type": "code",
   "execution_count": 13,
   "metadata": {},
   "outputs": [],
   "source": [
    "# pickle the model"
   ]
  },
  {
   "cell_type": "code",
   "execution_count": 14,
   "metadata": {},
   "outputs": [],
   "source": [
    "import pickle\n",
    "pickle.dump(lrregression, open(\"yarn_multiple.pkl\",'wb'))"
   ]
  },
  {
   "cell_type": "code",
   "execution_count": null,
   "metadata": {},
   "outputs": [],
   "source": [
    "pickle.dump(lrregression, open(\"yarn_multiple.pkl\",'wb'))"
   ]
  }
 ],
 "metadata": {
  "kernelspec": {
   "display_name": "Python 3",
   "language": "python",
   "name": "python3"
  },
  "language_info": {
   "codemirror_mode": {
    "name": "ipython",
    "version": 3
   },
   "file_extension": ".py",
   "mimetype": "text/x-python",
   "name": "python",
   "nbconvert_exporter": "python",
   "pygments_lexer": "ipython3",
   "version": "3.7.6"
  }
 },
 "nbformat": 4,
 "nbformat_minor": 2
}
